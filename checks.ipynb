{
 "cells": [
  {
   "cell_type": "code",
   "execution_count": 1,
   "id": "2d0c7bce",
   "metadata": {},
   "outputs": [],
   "source": [
    "import pandas as pd\n",
    "import numpy as np \n",
    "#import plotly.graph_objects as go\n",
    "#from plotly.subplots import make_subplots\n",
    "from pandas.api.types import is_numeric_dtype\n",
    "from pandas.api.types import is_string_dtype"
   ]
  },
  {
   "cell_type": "markdown",
   "id": "03ecdf3f",
   "metadata": {},
   "source": [
    "# Notes\n",
    "\n",
    "- Add Stream_id"
   ]
  },
  {
   "cell_type": "code",
   "execution_count": 44,
   "id": "bb71b267",
   "metadata": {},
   "outputs": [
    {
     "data": {
      "text/html": [
       "<div>\n",
       "<style scoped>\n",
       "    .dataframe tbody tr th:only-of-type {\n",
       "        vertical-align: middle;\n",
       "    }\n",
       "\n",
       "    .dataframe tbody tr th {\n",
       "        vertical-align: top;\n",
       "    }\n",
       "\n",
       "    .dataframe thead th {\n",
       "        text-align: right;\n",
       "    }\n",
       "</style>\n",
       "<table border=\"1\" class=\"dataframe\">\n",
       "  <thead>\n",
       "    <tr style=\"text-align: right;\">\n",
       "      <th></th>\n",
       "      <th>stream_type</th>\n",
       "      <th>mass_flow_rate</th>\n",
       "      <th>flowing_heat_capacity</th>\n",
       "      <th>initial_temp</th>\n",
       "      <th>final_temp</th>\n",
       "    </tr>\n",
       "  </thead>\n",
       "  <tbody>\n",
       "    <tr>\n",
       "      <th>0</th>\n",
       "      <td>Cold</td>\n",
       "      <td>105.6</td>\n",
       "      <td>271.47</td>\n",
       "      <td>48.0</td>\n",
       "      <td>88.1</td>\n",
       "    </tr>\n",
       "    <tr>\n",
       "      <th>1</th>\n",
       "      <td>hot</td>\n",
       "      <td>77.75</td>\n",
       "      <td>149.52</td>\n",
       "      <td>80.7</td>\n",
       "      <td>30.0</td>\n",
       "    </tr>\n",
       "    <tr>\n",
       "      <th>2</th>\n",
       "      <td>hot</td>\n",
       "      <td>15.16</td>\n",
       "      <td>47.41</td>\n",
       "      <td>140.2</td>\n",
       "      <td>25.0</td>\n",
       "    </tr>\n",
       "    <tr>\n",
       "      <th>3</th>\n",
       "      <td>hot</td>\n",
       "      <td>14.63</td>\n",
       "      <td>41.72</td>\n",
       "      <td>59.8</td>\n",
       "      <td>25.0</td>\n",
       "    </tr>\n",
       "    <tr>\n",
       "      <th>4</th>\n",
       "      <td>hot</td>\n",
       "      <td>5.25</td>\n",
       "      <td>34.79</td>\n",
       "      <td>80.0</td>\n",
       "      <td>25.0</td>\n",
       "    </tr>\n",
       "  </tbody>\n",
       "</table>\n",
       "</div>"
      ],
      "text/plain": [
       "  stream_type mass_flow_rate flowing_heat_capacity initial_temp final_temp\n",
       "0        Cold          105.6                271.47         48.0       88.1\n",
       "1         hot          77.75                149.52         80.7       30.0\n",
       "2         hot          15.16                 47.41        140.2       25.0\n",
       "3         hot          14.63                 41.72         59.8       25.0\n",
       "4         hot           5.25                 34.79         80.0       25.0"
      ]
     },
     "execution_count": 44,
     "metadata": {},
     "output_type": "execute_result"
    }
   ],
   "source": [
    "a = pd.DataFrame(np.array([['Cold', 105.6, 271.47, 48.0, 88.1], \n",
    "                                      ['hot', 77.75, 149.52, 80.7, 30.0],\n",
    "                                      ['hot', 15.16, 47.41, 140.2, 25.0],\n",
    "                                      ['hot', 14.63, 41.72, 59.8, 25.0],\n",
    "                                      ['hot', 5.25, 34.79, 80.0, 25.0]]), \n",
    "                            columns = ['stream_type', 'mass_flow_rate', \n",
    "                                       'flowing_heat_capacity', 'initial_temp', 'final_temp'])\n",
    "\n",
    "a"
   ]
  },
  {
   "cell_type": "code",
   "execution_count": 45,
   "id": "87d4cda0",
   "metadata": {},
   "outputs": [
    {
     "name": "stdout",
     "output_type": "stream",
     "text": [
      "<class 'pandas.core.frame.DataFrame'>\n",
      "RangeIndex: 5 entries, 0 to 4\n",
      "Data columns (total 5 columns):\n",
      " #   Column                 Non-Null Count  Dtype \n",
      "---  ------                 --------------  ----- \n",
      " 0   stream_type            5 non-null      object\n",
      " 1   mass_flow_rate         5 non-null      object\n",
      " 2   flowing_heat_capacity  5 non-null      object\n",
      " 3   initial_temp           5 non-null      object\n",
      " 4   final_temp             5 non-null      object\n",
      "dtypes: object(5)\n",
      "memory usage: 328.0+ bytes\n"
     ]
    }
   ],
   "source": [
    "a.info()"
   ]
  },
  {
   "cell_type": "code",
   "execution_count": 46,
   "id": "fe6030c7",
   "metadata": {},
   "outputs": [],
   "source": [
    "a[['mass_flow_rate','flowing_heat_capacity', 'initial_temp', 'final_temp']] = a[['mass_flow_rate','flowing_heat_capacity', 'initial_temp', 'final_temp']].apply(pd.to_numeric, errors = 'coerce')"
   ]
  },
  {
   "cell_type": "code",
   "execution_count": 47,
   "id": "e3e4fe65",
   "metadata": {},
   "outputs": [
    {
     "data": {
      "text/html": [
       "<div>\n",
       "<style scoped>\n",
       "    .dataframe tbody tr th:only-of-type {\n",
       "        vertical-align: middle;\n",
       "    }\n",
       "\n",
       "    .dataframe tbody tr th {\n",
       "        vertical-align: top;\n",
       "    }\n",
       "\n",
       "    .dataframe thead th {\n",
       "        text-align: right;\n",
       "    }\n",
       "</style>\n",
       "<table border=\"1\" class=\"dataframe\">\n",
       "  <thead>\n",
       "    <tr style=\"text-align: right;\">\n",
       "      <th></th>\n",
       "      <th>stream_type</th>\n",
       "      <th>mass_flow_rate</th>\n",
       "      <th>flowing_heat_capacity</th>\n",
       "      <th>initial_temp</th>\n",
       "      <th>final_temp</th>\n",
       "    </tr>\n",
       "  </thead>\n",
       "  <tbody>\n",
       "    <tr>\n",
       "      <th>0</th>\n",
       "      <td>Cold</td>\n",
       "      <td>105.60</td>\n",
       "      <td>271.47</td>\n",
       "      <td>48.0</td>\n",
       "      <td>88.1</td>\n",
       "    </tr>\n",
       "    <tr>\n",
       "      <th>1</th>\n",
       "      <td>hot</td>\n",
       "      <td>77.75</td>\n",
       "      <td>149.52</td>\n",
       "      <td>80.7</td>\n",
       "      <td>30.0</td>\n",
       "    </tr>\n",
       "    <tr>\n",
       "      <th>2</th>\n",
       "      <td>hot</td>\n",
       "      <td>15.16</td>\n",
       "      <td>47.41</td>\n",
       "      <td>140.2</td>\n",
       "      <td>25.0</td>\n",
       "    </tr>\n",
       "    <tr>\n",
       "      <th>3</th>\n",
       "      <td>hot</td>\n",
       "      <td>14.63</td>\n",
       "      <td>41.72</td>\n",
       "      <td>59.8</td>\n",
       "      <td>25.0</td>\n",
       "    </tr>\n",
       "    <tr>\n",
       "      <th>4</th>\n",
       "      <td>hot</td>\n",
       "      <td>5.25</td>\n",
       "      <td>34.79</td>\n",
       "      <td>80.0</td>\n",
       "      <td>25.0</td>\n",
       "    </tr>\n",
       "  </tbody>\n",
       "</table>\n",
       "</div>"
      ],
      "text/plain": [
       "  stream_type  mass_flow_rate  flowing_heat_capacity  initial_temp  final_temp\n",
       "0        Cold          105.60                 271.47          48.0        88.1\n",
       "1         hot           77.75                 149.52          80.7        30.0\n",
       "2         hot           15.16                  47.41         140.2        25.0\n",
       "3         hot           14.63                  41.72          59.8        25.0\n",
       "4         hot            5.25                  34.79          80.0        25.0"
      ]
     },
     "execution_count": 47,
     "metadata": {},
     "output_type": "execute_result"
    }
   ],
   "source": [
    "a"
   ]
  },
  {
   "cell_type": "code",
   "execution_count": 48,
   "id": "c1e9431c",
   "metadata": {},
   "outputs": [
    {
     "name": "stdout",
     "output_type": "stream",
     "text": [
      "<class 'pandas.core.frame.DataFrame'>\n",
      "RangeIndex: 5 entries, 0 to 4\n",
      "Data columns (total 5 columns):\n",
      " #   Column                 Non-Null Count  Dtype  \n",
      "---  ------                 --------------  -----  \n",
      " 0   stream_type            5 non-null      object \n",
      " 1   mass_flow_rate         5 non-null      float64\n",
      " 2   flowing_heat_capacity  5 non-null      float64\n",
      " 3   initial_temp           5 non-null      float64\n",
      " 4   final_temp             5 non-null      float64\n",
      "dtypes: float64(4), object(1)\n",
      "memory usage: 328.0+ bytes\n"
     ]
    }
   ],
   "source": [
    "a.info()"
   ]
  },
  {
   "cell_type": "code",
   "execution_count": 49,
   "id": "68b68186",
   "metadata": {},
   "outputs": [
    {
     "data": {
      "text/html": [
       "<div>\n",
       "<style scoped>\n",
       "    .dataframe tbody tr th:only-of-type {\n",
       "        vertical-align: middle;\n",
       "    }\n",
       "\n",
       "    .dataframe tbody tr th {\n",
       "        vertical-align: top;\n",
       "    }\n",
       "\n",
       "    .dataframe thead th {\n",
       "        text-align: right;\n",
       "    }\n",
       "</style>\n",
       "<table border=\"1\" class=\"dataframe\">\n",
       "  <thead>\n",
       "    <tr style=\"text-align: right;\">\n",
       "      <th></th>\n",
       "      <th>stream_type</th>\n",
       "      <th>mass_flow_rate</th>\n",
       "      <th>flowing_heat_capacity</th>\n",
       "      <th>initial_temp</th>\n",
       "      <th>final_temp</th>\n",
       "    </tr>\n",
       "  </thead>\n",
       "  <tbody>\n",
       "    <tr>\n",
       "      <th>0</th>\n",
       "      <td>Cold</td>\n",
       "      <td>105.60</td>\n",
       "      <td>271.47</td>\n",
       "      <td>48.0</td>\n",
       "      <td>88.1</td>\n",
       "    </tr>\n",
       "    <tr>\n",
       "      <th>1</th>\n",
       "      <td>hot</td>\n",
       "      <td>77.75</td>\n",
       "      <td>149.52</td>\n",
       "      <td>80.7</td>\n",
       "      <td>30.0</td>\n",
       "    </tr>\n",
       "    <tr>\n",
       "      <th>2</th>\n",
       "      <td>hot</td>\n",
       "      <td>15.16</td>\n",
       "      <td>47.41</td>\n",
       "      <td>140.2</td>\n",
       "      <td>25.0</td>\n",
       "    </tr>\n",
       "    <tr>\n",
       "      <th>3</th>\n",
       "      <td>hot</td>\n",
       "      <td>14.63</td>\n",
       "      <td>41.72</td>\n",
       "      <td>59.8</td>\n",
       "      <td>25.0</td>\n",
       "    </tr>\n",
       "    <tr>\n",
       "      <th>4</th>\n",
       "      <td>hot</td>\n",
       "      <td>5.25</td>\n",
       "      <td>34.79</td>\n",
       "      <td>80.0</td>\n",
       "      <td>25.0</td>\n",
       "    </tr>\n",
       "  </tbody>\n",
       "</table>\n",
       "</div>"
      ],
      "text/plain": [
       "  stream_type  mass_flow_rate  flowing_heat_capacity  initial_temp  final_temp\n",
       "0        Cold          105.60                 271.47          48.0        88.1\n",
       "1         hot           77.75                 149.52          80.7        30.0\n",
       "2         hot           15.16                  47.41         140.2        25.0\n",
       "3         hot           14.63                  41.72          59.8        25.0\n",
       "4         hot            5.25                  34.79          80.0        25.0"
      ]
     },
     "execution_count": 49,
     "metadata": {},
     "output_type": "execute_result"
    }
   ],
   "source": [
    "a"
   ]
  },
  {
   "cell_type": "code",
   "execution_count": 74,
   "id": "61127a09",
   "metadata": {},
   "outputs": [],
   "source": [
    "b = pd.DataFrame(np.arange(10))\n",
    "\n",
    "if a['stream_type'].str.lower() is 'cold':\n",
    "    b['new_col'] = a['mass_flow_rate'] / 2\n",
    "    b['new_col'] = a['flowing_heat_capacity'] + 2\n",
    "else:\n",
    "    b['new_col'] = a['mass_flow_rate'] / 3"
   ]
  },
  {
   "cell_type": "code",
   "execution_count": 75,
   "id": "d96f6991",
   "metadata": {},
   "outputs": [
    {
     "data": {
      "text/html": [
       "<div>\n",
       "<style scoped>\n",
       "    .dataframe tbody tr th:only-of-type {\n",
       "        vertical-align: middle;\n",
       "    }\n",
       "\n",
       "    .dataframe tbody tr th {\n",
       "        vertical-align: top;\n",
       "    }\n",
       "\n",
       "    .dataframe thead th {\n",
       "        text-align: right;\n",
       "    }\n",
       "</style>\n",
       "<table border=\"1\" class=\"dataframe\">\n",
       "  <thead>\n",
       "    <tr style=\"text-align: right;\">\n",
       "      <th></th>\n",
       "      <th>0</th>\n",
       "      <th>new_col</th>\n",
       "    </tr>\n",
       "  </thead>\n",
       "  <tbody>\n",
       "    <tr>\n",
       "      <th>0</th>\n",
       "      <td>0</td>\n",
       "      <td>35.200000</td>\n",
       "    </tr>\n",
       "    <tr>\n",
       "      <th>1</th>\n",
       "      <td>1</td>\n",
       "      <td>25.916667</td>\n",
       "    </tr>\n",
       "    <tr>\n",
       "      <th>2</th>\n",
       "      <td>2</td>\n",
       "      <td>5.053333</td>\n",
       "    </tr>\n",
       "    <tr>\n",
       "      <th>3</th>\n",
       "      <td>3</td>\n",
       "      <td>4.876667</td>\n",
       "    </tr>\n",
       "    <tr>\n",
       "      <th>4</th>\n",
       "      <td>4</td>\n",
       "      <td>1.750000</td>\n",
       "    </tr>\n",
       "    <tr>\n",
       "      <th>5</th>\n",
       "      <td>5</td>\n",
       "      <td>NaN</td>\n",
       "    </tr>\n",
       "    <tr>\n",
       "      <th>6</th>\n",
       "      <td>6</td>\n",
       "      <td>NaN</td>\n",
       "    </tr>\n",
       "    <tr>\n",
       "      <th>7</th>\n",
       "      <td>7</td>\n",
       "      <td>NaN</td>\n",
       "    </tr>\n",
       "    <tr>\n",
       "      <th>8</th>\n",
       "      <td>8</td>\n",
       "      <td>NaN</td>\n",
       "    </tr>\n",
       "    <tr>\n",
       "      <th>9</th>\n",
       "      <td>9</td>\n",
       "      <td>NaN</td>\n",
       "    </tr>\n",
       "  </tbody>\n",
       "</table>\n",
       "</div>"
      ],
      "text/plain": [
       "   0    new_col\n",
       "0  0  35.200000\n",
       "1  1  25.916667\n",
       "2  2   5.053333\n",
       "3  3   4.876667\n",
       "4  4   1.750000\n",
       "5  5        NaN\n",
       "6  6        NaN\n",
       "7  7        NaN\n",
       "8  8        NaN\n",
       "9  9        NaN"
      ]
     },
     "execution_count": 75,
     "metadata": {},
     "output_type": "execute_result"
    }
   ],
   "source": [
    "b"
   ]
  },
  {
   "cell_type": "code",
   "execution_count": 54,
   "id": "bd4d3604",
   "metadata": {},
   "outputs": [
    {
     "data": {
      "text/plain": [
       "0    cold\n",
       "1     hot\n",
       "2     hot\n",
       "3     hot\n",
       "4     hot\n",
       "Name: stream_type, dtype: object"
      ]
     },
     "execution_count": 54,
     "metadata": {},
     "output_type": "execute_result"
    }
   ],
   "source": [
    "a['stream_type'].str.lower()"
   ]
  },
  {
   "cell_type": "code",
   "execution_count": 52,
   "id": "50b4b953",
   "metadata": {},
   "outputs": [
    {
     "data": {
      "text/plain": [
       "str"
      ]
     },
     "execution_count": 52,
     "metadata": {},
     "output_type": "execute_result"
    }
   ],
   "source": [
    "## Need to test that the items in this numpy array is strings \n",
    "\n",
    "type(a['stream_type'].values.item(1))"
   ]
  },
  {
   "cell_type": "code",
   "execution_count": 69,
   "id": "dcf18f1c",
   "metadata": {},
   "outputs": [
    {
     "data": {
      "text/plain": [
       "10"
      ]
     },
     "execution_count": 69,
     "metadata": {},
     "output_type": "execute_result"
    }
   ],
   "source": []
  },
  {
   "cell_type": "code",
   "execution_count": 70,
   "id": "161e7106",
   "metadata": {},
   "outputs": [],
   "source": [
    "def problem_table_algorithm(df, type_col, delta_t_min):\n",
    "    \n",
    "    supply_and_target = 2\n",
    "    \n",
    "    rows = len(a['stream_type'].values) * supply_and_target\n",
    "    \n",
    "    problem_table = pd.DataFrame(index = np.arange(rows))\n",
    "    \n",
    "    if df[type_col].str.lower() is 'hot':\n",
    "        problem_table['supply_temp']  = df['initial_temp'] - delta_t_min\n",
    "        problem_table['supply_temp']  = df['final_temp'] - delta_t_min\n",
    "    elif df[type_col].str.lower() is 'cold':\n",
    "        problem_table['supply_temp']  = df['initial_temp'] + delta_t_min\n",
    "        problem_table['supply_temp']  = df['final_temp'] + delta_t_min\n",
    "    else:\n",
    "        print(\"The column that indicates the stream type\\nneeds to have only hot and cold.\")\n",
    "    \n",
    "    return problem_table"
   ]
  },
  {
   "cell_type": "code",
   "execution_count": 71,
   "id": "e4ac3384",
   "metadata": {},
   "outputs": [
    {
     "name": "stdout",
     "output_type": "stream",
     "text": [
      "The column that indicates the stream type\n",
      "needs to have only hot and cold.\n"
     ]
    },
    {
     "data": {
      "text/html": [
       "<div>\n",
       "<style scoped>\n",
       "    .dataframe tbody tr th:only-of-type {\n",
       "        vertical-align: middle;\n",
       "    }\n",
       "\n",
       "    .dataframe tbody tr th {\n",
       "        vertical-align: top;\n",
       "    }\n",
       "\n",
       "    .dataframe thead th {\n",
       "        text-align: right;\n",
       "    }\n",
       "</style>\n",
       "<table border=\"1\" class=\"dataframe\">\n",
       "  <thead>\n",
       "    <tr style=\"text-align: right;\">\n",
       "      <th></th>\n",
       "    </tr>\n",
       "  </thead>\n",
       "  <tbody>\n",
       "    <tr>\n",
       "      <th>0</th>\n",
       "    </tr>\n",
       "    <tr>\n",
       "      <th>1</th>\n",
       "    </tr>\n",
       "    <tr>\n",
       "      <th>2</th>\n",
       "    </tr>\n",
       "    <tr>\n",
       "      <th>3</th>\n",
       "    </tr>\n",
       "    <tr>\n",
       "      <th>4</th>\n",
       "    </tr>\n",
       "    <tr>\n",
       "      <th>5</th>\n",
       "    </tr>\n",
       "    <tr>\n",
       "      <th>6</th>\n",
       "    </tr>\n",
       "    <tr>\n",
       "      <th>7</th>\n",
       "    </tr>\n",
       "    <tr>\n",
       "      <th>8</th>\n",
       "    </tr>\n",
       "    <tr>\n",
       "      <th>9</th>\n",
       "    </tr>\n",
       "  </tbody>\n",
       "</table>\n",
       "</div>"
      ],
      "text/plain": [
       "Empty DataFrame\n",
       "Columns: []\n",
       "Index: [0, 1, 2, 3, 4, 5, 6, 7, 8, 9]"
      ]
     },
     "execution_count": 71,
     "metadata": {},
     "output_type": "execute_result"
    }
   ],
   "source": [
    "problem_table_algorithm(a, 'stream_type', 6)"
   ]
  },
  {
   "cell_type": "code",
   "execution_count": null,
   "id": "e32c9f73",
   "metadata": {},
   "outputs": [],
   "source": []
  },
  {
   "cell_type": "code",
   "execution_count": null,
   "id": "3d2f0065",
   "metadata": {},
   "outputs": [],
   "source": []
  },
  {
   "cell_type": "code",
   "execution_count": null,
   "id": "39a5162f",
   "metadata": {},
   "outputs": [],
   "source": []
  }
 ],
 "metadata": {
  "kernelspec": {
   "display_name": "Python [conda env:571]",
   "language": "python",
   "name": "conda-env-571-py"
  },
  "language_info": {
   "codemirror_mode": {
    "name": "ipython",
    "version": 3
   },
   "file_extension": ".py",
   "mimetype": "text/x-python",
   "name": "python",
   "nbconvert_exporter": "python",
   "pygments_lexer": "ipython3",
   "version": "3.7.10"
  }
 },
 "nbformat": 4,
 "nbformat_minor": 5
}
