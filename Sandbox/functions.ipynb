{
 "cells": [
  {
   "cell_type": "code",
   "execution_count": 1,
   "id": "264e5adb",
   "metadata": {},
   "outputs": [],
   "source": [
    "import pandas as pd \n",
    "import numpy as np \n",
    "from pandas.api.types import is_numeric_dtype"
   ]
  },
  {
   "cell_type": "code",
   "execution_count": 2,
   "id": "98b19234",
   "metadata": {},
   "outputs": [
    {
     "data": {
      "text/html": [
       "<div>\n",
       "<style scoped>\n",
       "    .dataframe tbody tr th:only-of-type {\n",
       "        vertical-align: middle;\n",
       "    }\n",
       "\n",
       "    .dataframe tbody tr th {\n",
       "        vertical-align: top;\n",
       "    }\n",
       "\n",
       "    .dataframe thead th {\n",
       "        text-align: right;\n",
       "    }\n",
       "</style>\n",
       "<table border=\"1\" class=\"dataframe\">\n",
       "  <thead>\n",
       "    <tr style=\"text-align: right;\">\n",
       "      <th></th>\n",
       "      <th>stream_type</th>\n",
       "      <th>mass_flow_rate</th>\n",
       "      <th>flowing_heat_capacity</th>\n",
       "      <th>initial_temp</th>\n",
       "      <th>final_temp</th>\n",
       "    </tr>\n",
       "  </thead>\n",
       "  <tbody>\n",
       "    <tr>\n",
       "      <th>0</th>\n",
       "      <td>Cold</td>\n",
       "      <td>105.6</td>\n",
       "      <td>271.47</td>\n",
       "      <td>48.0</td>\n",
       "      <td>88.1</td>\n",
       "    </tr>\n",
       "    <tr>\n",
       "      <th>1</th>\n",
       "      <td>hot</td>\n",
       "      <td>77.75</td>\n",
       "      <td>149.52</td>\n",
       "      <td>80.7</td>\n",
       "      <td>30.0</td>\n",
       "    </tr>\n",
       "    <tr>\n",
       "      <th>2</th>\n",
       "      <td>hot</td>\n",
       "      <td>15.16</td>\n",
       "      <td>47.41</td>\n",
       "      <td>140.2</td>\n",
       "      <td>25.0</td>\n",
       "    </tr>\n",
       "    <tr>\n",
       "      <th>3</th>\n",
       "      <td>hot</td>\n",
       "      <td>14.63</td>\n",
       "      <td>41.72</td>\n",
       "      <td>59.8</td>\n",
       "      <td>25.0</td>\n",
       "    </tr>\n",
       "    <tr>\n",
       "      <th>4</th>\n",
       "      <td>hot</td>\n",
       "      <td>5.25</td>\n",
       "      <td>34.79</td>\n",
       "      <td>80.0</td>\n",
       "      <td>25.0</td>\n",
       "    </tr>\n",
       "  </tbody>\n",
       "</table>\n",
       "</div>"
      ],
      "text/plain": [
       "  stream_type mass_flow_rate flowing_heat_capacity initial_temp final_temp\n",
       "0        Cold          105.6                271.47         48.0       88.1\n",
       "1         hot          77.75                149.52         80.7       30.0\n",
       "2         hot          15.16                 47.41        140.2       25.0\n",
       "3         hot          14.63                 41.72         59.8       25.0\n",
       "4         hot           5.25                 34.79         80.0       25.0"
      ]
     },
     "execution_count": 2,
     "metadata": {},
     "output_type": "execute_result"
    }
   ],
   "source": [
    "a = pd.DataFrame(np.array([['Cold', 105.6, 271.47, 48.0, 88.1], \n",
    "                                      ['hot', 77.75, 149.52, 80.7, 30.0],\n",
    "                                      ['hot', 15.16, 47.41, 140.2, 25.0],\n",
    "                                      ['hot', 14.63, 41.72, 59.8, 25.0],\n",
    "                                      ['hot', 5.25, 34.79, 80.0, 25.0]]), \n",
    "                            columns = ['stream_type', 'mass_flow_rate', \n",
    "                                       'flowing_heat_capacity', 'initial_temp', 'final_temp'])\n",
    "\n",
    "a"
   ]
  },
  {
   "cell_type": "code",
   "execution_count": 3,
   "id": "50677baf",
   "metadata": {},
   "outputs": [
    {
     "name": "stdout",
     "output_type": "stream",
     "text": [
      "<class 'pandas.core.frame.DataFrame'>\n",
      "RangeIndex: 5 entries, 0 to 4\n",
      "Data columns (total 5 columns):\n",
      " #   Column                 Non-Null Count  Dtype \n",
      "---  ------                 --------------  ----- \n",
      " 0   stream_type            5 non-null      object\n",
      " 1   mass_flow_rate         5 non-null      object\n",
      " 2   flowing_heat_capacity  5 non-null      object\n",
      " 3   initial_temp           5 non-null      object\n",
      " 4   final_temp             5 non-null      object\n",
      "dtypes: object(5)\n",
      "memory usage: 328.0+ bytes\n"
     ]
    }
   ],
   "source": [
    "a.info()"
   ]
  },
  {
   "cell_type": "code",
   "execution_count": 4,
   "id": "35564d16",
   "metadata": {},
   "outputs": [],
   "source": [
    "def dataframe_converter(df):\n",
    "    df = df.transform(pd.to_numeric, errors = 'ignore')\n",
    "    return df"
   ]
  },
  {
   "cell_type": "code",
   "execution_count": 5,
   "id": "141c9b6c",
   "metadata": {},
   "outputs": [],
   "source": [
    "a = dataframe_converter(a)"
   ]
  },
  {
   "cell_type": "code",
   "execution_count": 6,
   "id": "ca764df1",
   "metadata": {},
   "outputs": [
    {
     "name": "stdout",
     "output_type": "stream",
     "text": [
      "<class 'pandas.core.frame.DataFrame'>\n",
      "RangeIndex: 5 entries, 0 to 4\n",
      "Data columns (total 5 columns):\n",
      " #   Column                 Non-Null Count  Dtype  \n",
      "---  ------                 --------------  -----  \n",
      " 0   stream_type            5 non-null      object \n",
      " 1   mass_flow_rate         5 non-null      float64\n",
      " 2   flowing_heat_capacity  5 non-null      float64\n",
      " 3   initial_temp           5 non-null      float64\n",
      " 4   final_temp             5 non-null      float64\n",
      "dtypes: float64(4), object(1)\n",
      "memory usage: 328.0+ bytes\n"
     ]
    }
   ],
   "source": [
    "a.info()"
   ]
  },
  {
   "cell_type": "code",
   "execution_count": 7,
   "id": "8fabff99",
   "metadata": {},
   "outputs": [],
   "source": [
    "def min_temp_diff_selection(t_min = 12, tradeoff = 'energy'):\n",
    "    \"\"\"\n",
    "    This determines the max possible amount of heat recovery.\n",
    "    Optimium delta_T_min is influenced by the tradeoff between capital and energy costs.\n",
    "    \n",
    "    default t_min set at 12 because increasing t_min decreases annualised capital cost. \n",
    "    However, this increases energy costs (so\n",
    "    if your process has a lot of energy cost requirements, you'd want to decrease t_min)\n",
    "    \"\"\"\n",
    "    if tradeoff == 'energy':\n",
    "        6 <= t_min < 12\n",
    "    \n",
    "    \n",
    "    elif tradeoff == 'capital':\n",
    "        12 <= t_min <= 20"
   ]
  },
  {
   "cell_type": "code",
   "execution_count": null,
   "id": "814aea32",
   "metadata": {},
   "outputs": [],
   "source": []
  },
  {
   "cell_type": "code",
   "execution_count": null,
   "id": "ec312f73",
   "metadata": {},
   "outputs": [],
   "source": []
  },
  {
   "cell_type": "code",
   "execution_count": null,
   "id": "400767c9",
   "metadata": {},
   "outputs": [],
   "source": []
  },
  {
   "cell_type": "code",
   "execution_count": null,
   "id": "2d3611a8",
   "metadata": {},
   "outputs": [],
   "source": []
  },
  {
   "cell_type": "code",
   "execution_count": null,
   "id": "075175b0",
   "metadata": {},
   "outputs": [],
   "source": []
  },
  {
   "cell_type": "code",
   "execution_count": null,
   "id": "220e8b73",
   "metadata": {},
   "outputs": [],
   "source": []
  },
  {
   "cell_type": "code",
   "execution_count": null,
   "id": "53e6a648",
   "metadata": {},
   "outputs": [],
   "source": []
  },
  {
   "cell_type": "code",
   "execution_count": null,
   "id": "502a4a65",
   "metadata": {},
   "outputs": [],
   "source": []
  },
  {
   "cell_type": "code",
   "execution_count": null,
   "id": "dde50205",
   "metadata": {},
   "outputs": [],
   "source": []
  },
  {
   "cell_type": "code",
   "execution_count": null,
   "id": "ed5097f3",
   "metadata": {},
   "outputs": [],
   "source": []
  },
  {
   "cell_type": "code",
   "execution_count": null,
   "id": "670c67f7",
   "metadata": {},
   "outputs": [],
   "source": []
  },
  {
   "cell_type": "code",
   "execution_count": null,
   "id": "cdf3a318",
   "metadata": {},
   "outputs": [],
   "source": []
  },
  {
   "cell_type": "code",
   "execution_count": null,
   "id": "da3ad13c",
   "metadata": {},
   "outputs": [],
   "source": []
  },
  {
   "cell_type": "code",
   "execution_count": null,
   "id": "4eee7d6f",
   "metadata": {},
   "outputs": [],
   "source": []
  },
  {
   "cell_type": "markdown",
   "id": "72db1ebe",
   "metadata": {},
   "source": [
    "# ----------------------- USELESS FUNCTIONS -----------------------"
   ]
  },
  {
   "cell_type": "code",
   "execution_count": null,
   "id": "ac2c828d",
   "metadata": {},
   "outputs": [],
   "source": [
    "#def datatype_converter(df):\n",
    "#    col_list = []\n",
    "#    for column in df.columns:\n",
    "#        col_list.append(column)\n",
    "#        for i in range(len(col_list)):\n",
    "#            if is_string_dtype(df[col_list.pop()]):\n",
    "#                df.apply(pd.to_numeric, errors = 'coerce') # coerce invalid values to nan. \n",
    "#            else:\n",
    "#                pass\n",
    "#    return df"
   ]
  },
  {
   "cell_type": "code",
   "execution_count": null,
   "id": "e97fb5c5",
   "metadata": {},
   "outputs": [],
   "source": [
    "def datatype_converter1(df):\n",
    "    target_cols = [col for col in df.columns if is_numeric_dtype(df[col])]\n",
    "    for col in target_cols:\n",
    "        df.loc[:, col] = pd.to_numeric(df[col])\n",
    "    return df"
   ]
  },
  {
   "cell_type": "code",
   "execution_count": null,
   "id": "8816ad5d",
   "metadata": {},
   "outputs": [],
   "source": [
    "a = datatype_converter1(a)"
   ]
  },
  {
   "cell_type": "code",
   "execution_count": null,
   "id": "d2806e6b",
   "metadata": {},
   "outputs": [],
   "source": [
    "a"
   ]
  },
  {
   "cell_type": "code",
   "execution_count": null,
   "id": "5aa8015a",
   "metadata": {},
   "outputs": [],
   "source": [
    "def datatype_converter2(df):\n",
    "    ind = df.columns != 'stream_type'\n",
    "    df.loc[:, ind] = df.loc[:, ind].astype(float)\n",
    "    return df"
   ]
  },
  {
   "cell_type": "code",
   "execution_count": null,
   "id": "a3e29e24",
   "metadata": {},
   "outputs": [],
   "source": [
    "ind = a.columns != 'stream_type'\n",
    "ind"
   ]
  },
  {
   "cell_type": "code",
   "execution_count": null,
   "id": "aa4dfec3",
   "metadata": {},
   "outputs": [],
   "source": [
    "a = datatype_converter2(a)"
   ]
  },
  {
   "cell_type": "code",
   "execution_count": null,
   "id": "a6f40781",
   "metadata": {},
   "outputs": [],
   "source": [
    "a.info()"
   ]
  },
  {
   "cell_type": "code",
   "execution_count": null,
   "id": "10b27ec7",
   "metadata": {},
   "outputs": [],
   "source": [
    "a = a.transform(pd.to_numeric, errors = 'ignore')"
   ]
  },
  {
   "cell_type": "code",
   "execution_count": null,
   "id": "302b5b15",
   "metadata": {},
   "outputs": [],
   "source": [
    "a.info()"
   ]
  },
  {
   "cell_type": "code",
   "execution_count": null,
   "id": "df0dd1a1",
   "metadata": {},
   "outputs": [],
   "source": []
  }
 ],
 "metadata": {
  "kernelspec": {
   "display_name": "Python [conda env:575new]",
   "language": "python",
   "name": "conda-env-575new-py"
  },
  "language_info": {
   "codemirror_mode": {
    "name": "ipython",
    "version": 3
   },
   "file_extension": ".py",
   "mimetype": "text/x-python",
   "name": "python",
   "nbconvert_exporter": "python",
   "pygments_lexer": "ipython3",
   "version": "3.7.10"
  }
 },
 "nbformat": 4,
 "nbformat_minor": 5
}
