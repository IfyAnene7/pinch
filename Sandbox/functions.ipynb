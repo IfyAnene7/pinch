{
 "cells": [
  {
   "cell_type": "code",
   "execution_count": 2,
   "id": "ebb6b03a",
   "metadata": {},
   "outputs": [],
   "source": [
    "import pandas as pd \n",
    "import numpy as np \n",
    "from pandas.api.types import is_numeric_dtype"
   ]
  },
  {
   "cell_type": "code",
   "execution_count": 3,
   "id": "f30a013f",
   "metadata": {},
   "outputs": [
    {
     "data": {
      "text/html": [
       "<div>\n",
       "<style scoped>\n",
       "    .dataframe tbody tr th:only-of-type {\n",
       "        vertical-align: middle;\n",
       "    }\n",
       "\n",
       "    .dataframe tbody tr th {\n",
       "        vertical-align: top;\n",
       "    }\n",
       "\n",
       "    .dataframe thead th {\n",
       "        text-align: right;\n",
       "    }\n",
       "</style>\n",
       "<table border=\"1\" class=\"dataframe\">\n",
       "  <thead>\n",
       "    <tr style=\"text-align: right;\">\n",
       "      <th></th>\n",
       "      <th>stream_type</th>\n",
       "      <th>mass_flow_rate</th>\n",
       "      <th>flowing_heat_capacity</th>\n",
       "      <th>initial_temp</th>\n",
       "      <th>final_temp</th>\n",
       "    </tr>\n",
       "  </thead>\n",
       "  <tbody>\n",
       "    <tr>\n",
       "      <th>0</th>\n",
       "      <td>Cold</td>\n",
       "      <td>105.6</td>\n",
       "      <td>271.47</td>\n",
       "      <td>48.0</td>\n",
       "      <td>88.1</td>\n",
       "    </tr>\n",
       "    <tr>\n",
       "      <th>1</th>\n",
       "      <td>hot</td>\n",
       "      <td>77.75</td>\n",
       "      <td>149.52</td>\n",
       "      <td>80.7</td>\n",
       "      <td>30.0</td>\n",
       "    </tr>\n",
       "    <tr>\n",
       "      <th>2</th>\n",
       "      <td>hot</td>\n",
       "      <td>15.16</td>\n",
       "      <td>47.41</td>\n",
       "      <td>140.2</td>\n",
       "      <td>25.0</td>\n",
       "    </tr>\n",
       "    <tr>\n",
       "      <th>3</th>\n",
       "      <td>hot</td>\n",
       "      <td>14.63</td>\n",
       "      <td>41.72</td>\n",
       "      <td>59.8</td>\n",
       "      <td>25.0</td>\n",
       "    </tr>\n",
       "    <tr>\n",
       "      <th>4</th>\n",
       "      <td>hot</td>\n",
       "      <td>5.25</td>\n",
       "      <td>34.79</td>\n",
       "      <td>80.0</td>\n",
       "      <td>25.0</td>\n",
       "    </tr>\n",
       "  </tbody>\n",
       "</table>\n",
       "</div>"
      ],
      "text/plain": [
       "  stream_type mass_flow_rate flowing_heat_capacity initial_temp final_temp\n",
       "0        Cold          105.6                271.47         48.0       88.1\n",
       "1         hot          77.75                149.52         80.7       30.0\n",
       "2         hot          15.16                 47.41        140.2       25.0\n",
       "3         hot          14.63                 41.72         59.8       25.0\n",
       "4         hot           5.25                 34.79         80.0       25.0"
      ]
     },
     "execution_count": 3,
     "metadata": {},
     "output_type": "execute_result"
    }
   ],
   "source": [
    "a = pd.DataFrame(np.array([['Cold', 105.6, 271.47, 48.0, 88.1], \n",
    "                                      ['hot', 77.75, 149.52, 80.7, 30.0],\n",
    "                                      ['hot', 15.16, 47.41, 140.2, 25.0],\n",
    "                                      ['hot', 14.63, 41.72, 59.8, 25.0],\n",
    "                                      ['hot', 5.25, 34.79, 80.0, 25.0]]), \n",
    "                            columns = ['stream_type', 'mass_flow_rate', \n",
    "                                       'flowing_heat_capacity', 'initial_temp', 'final_temp'])\n",
    "\n",
    "a"
   ]
  },
  {
   "cell_type": "code",
   "execution_count": 4,
   "id": "546e7c6d",
   "metadata": {},
   "outputs": [
    {
     "name": "stdout",
     "output_type": "stream",
     "text": [
      "<class 'pandas.core.frame.DataFrame'>\n",
      "RangeIndex: 5 entries, 0 to 4\n",
      "Data columns (total 5 columns):\n",
      " #   Column                 Non-Null Count  Dtype \n",
      "---  ------                 --------------  ----- \n",
      " 0   stream_type            5 non-null      object\n",
      " 1   mass_flow_rate         5 non-null      object\n",
      " 2   flowing_heat_capacity  5 non-null      object\n",
      " 3   initial_temp           5 non-null      object\n",
      " 4   final_temp             5 non-null      object\n",
      "dtypes: object(5)\n",
      "memory usage: 328.0+ bytes\n"
     ]
    }
   ],
   "source": [
    "a.info()"
   ]
  },
  {
   "cell_type": "code",
   "execution_count": 5,
   "id": "a244879c",
   "metadata": {},
   "outputs": [],
   "source": [
    "def dataframe_converter(df):\n",
    "    df = df.transform(pd.to_numeric, errors = 'ignore')\n",
    "    return df"
   ]
  },
  {
   "cell_type": "code",
   "execution_count": 6,
   "id": "925fd28b",
   "metadata": {},
   "outputs": [],
   "source": [
    "a = dataframe_converter(a)"
   ]
  },
  {
   "cell_type": "code",
   "execution_count": 7,
   "id": "a59592c0",
   "metadata": {},
   "outputs": [
    {
     "name": "stdout",
     "output_type": "stream",
     "text": [
      "<class 'pandas.core.frame.DataFrame'>\n",
      "RangeIndex: 5 entries, 0 to 4\n",
      "Data columns (total 5 columns):\n",
      " #   Column                 Non-Null Count  Dtype  \n",
      "---  ------                 --------------  -----  \n",
      " 0   stream_type            5 non-null      object \n",
      " 1   mass_flow_rate         5 non-null      float64\n",
      " 2   flowing_heat_capacity  5 non-null      float64\n",
      " 3   initial_temp           5 non-null      float64\n",
      " 4   final_temp             5 non-null      float64\n",
      "dtypes: float64(4), object(1)\n",
      "memory usage: 328.0+ bytes\n"
     ]
    }
   ],
   "source": [
    "a.info()"
   ]
  },
  {
   "cell_type": "code",
   "execution_count": null,
   "id": "bb39a28b",
   "metadata": {},
   "outputs": [],
   "source": []
  },
  {
   "cell_type": "code",
   "execution_count": 12,
   "id": "797edf30",
   "metadata": {},
   "outputs": [],
   "source": [
    "def generate_heat_load(df):\n",
    "    df['heat_load'] = (df['final_temp'] - df['initial_temp']) * df['flowing_heat_capacity']\n",
    "    df['heat_load'] = df['heat_load'].abs()\n",
    "    return df"
   ]
  },
  {
   "cell_type": "code",
   "execution_count": 28,
   "id": "8a6e1620",
   "metadata": {},
   "outputs": [
    {
     "data": {
      "text/html": [
       "<div>\n",
       "<style scoped>\n",
       "    .dataframe tbody tr th:only-of-type {\n",
       "        vertical-align: middle;\n",
       "    }\n",
       "\n",
       "    .dataframe tbody tr th {\n",
       "        vertical-align: top;\n",
       "    }\n",
       "\n",
       "    .dataframe thead th {\n",
       "        text-align: right;\n",
       "    }\n",
       "</style>\n",
       "<table border=\"1\" class=\"dataframe\">\n",
       "  <thead>\n",
       "    <tr style=\"text-align: right;\">\n",
       "      <th></th>\n",
       "      <th>stream_type</th>\n",
       "      <th>mass_flow_rate</th>\n",
       "      <th>flowing_heat_capacity</th>\n",
       "      <th>initial_temp</th>\n",
       "      <th>final_temp</th>\n",
       "      <th>heat_load</th>\n",
       "    </tr>\n",
       "  </thead>\n",
       "  <tbody>\n",
       "    <tr>\n",
       "      <th>0</th>\n",
       "      <td>Cold</td>\n",
       "      <td>105.60</td>\n",
       "      <td>271.47</td>\n",
       "      <td>48.0</td>\n",
       "      <td>88.1</td>\n",
       "      <td>10885.947</td>\n",
       "    </tr>\n",
       "    <tr>\n",
       "      <th>1</th>\n",
       "      <td>hot</td>\n",
       "      <td>77.75</td>\n",
       "      <td>149.52</td>\n",
       "      <td>80.7</td>\n",
       "      <td>30.0</td>\n",
       "      <td>7580.664</td>\n",
       "    </tr>\n",
       "    <tr>\n",
       "      <th>2</th>\n",
       "      <td>hot</td>\n",
       "      <td>15.16</td>\n",
       "      <td>47.41</td>\n",
       "      <td>140.2</td>\n",
       "      <td>25.0</td>\n",
       "      <td>5461.632</td>\n",
       "    </tr>\n",
       "    <tr>\n",
       "      <th>3</th>\n",
       "      <td>hot</td>\n",
       "      <td>14.63</td>\n",
       "      <td>41.72</td>\n",
       "      <td>59.8</td>\n",
       "      <td>25.0</td>\n",
       "      <td>1451.856</td>\n",
       "    </tr>\n",
       "    <tr>\n",
       "      <th>4</th>\n",
       "      <td>hot</td>\n",
       "      <td>5.25</td>\n",
       "      <td>34.79</td>\n",
       "      <td>80.0</td>\n",
       "      <td>25.0</td>\n",
       "      <td>1913.450</td>\n",
       "    </tr>\n",
       "  </tbody>\n",
       "</table>\n",
       "</div>"
      ],
      "text/plain": [
       "  stream_type  mass_flow_rate  flowing_heat_capacity  initial_temp  \\\n",
       "0        Cold          105.60                 271.47          48.0   \n",
       "1         hot           77.75                 149.52          80.7   \n",
       "2         hot           15.16                  47.41         140.2   \n",
       "3         hot           14.63                  41.72          59.8   \n",
       "4         hot            5.25                  34.79          80.0   \n",
       "\n",
       "   final_temp  heat_load  \n",
       "0        88.1  10885.947  \n",
       "1        30.0   7580.664  \n",
       "2        25.0   5461.632  \n",
       "3        25.0   1451.856  \n",
       "4        25.0   1913.450  "
      ]
     },
     "execution_count": 28,
     "metadata": {},
     "output_type": "execute_result"
    }
   ],
   "source": [
    "a = generate_heat_load(a)\n",
    "a"
   ]
  },
  {
   "cell_type": "code",
   "execution_count": 27,
   "id": "e9302cc0",
   "metadata": {},
   "outputs": [
    {
     "data": {
      "text/html": [
       "<div>\n",
       "<style scoped>\n",
       "    .dataframe tbody tr th:only-of-type {\n",
       "        vertical-align: middle;\n",
       "    }\n",
       "\n",
       "    .dataframe tbody tr th {\n",
       "        vertical-align: top;\n",
       "    }\n",
       "\n",
       "    .dataframe thead th {\n",
       "        text-align: right;\n",
       "    }\n",
       "</style>\n",
       "<table border=\"1\" class=\"dataframe\">\n",
       "  <thead>\n",
       "    <tr style=\"text-align: right;\">\n",
       "      <th></th>\n",
       "      <th>stream_type</th>\n",
       "      <th>variable</th>\n",
       "      <th>temp</th>\n",
       "    </tr>\n",
       "  </thead>\n",
       "  <tbody>\n",
       "    <tr>\n",
       "      <th>0</th>\n",
       "      <td>hot</td>\n",
       "      <td>initial_temp</td>\n",
       "      <td>140.2</td>\n",
       "    </tr>\n",
       "    <tr>\n",
       "      <th>1</th>\n",
       "      <td>Cold</td>\n",
       "      <td>final_temp</td>\n",
       "      <td>88.1</td>\n",
       "    </tr>\n",
       "    <tr>\n",
       "      <th>2</th>\n",
       "      <td>hot</td>\n",
       "      <td>initial_temp</td>\n",
       "      <td>80.7</td>\n",
       "    </tr>\n",
       "    <tr>\n",
       "      <th>3</th>\n",
       "      <td>hot</td>\n",
       "      <td>initial_temp</td>\n",
       "      <td>80.0</td>\n",
       "    </tr>\n",
       "    <tr>\n",
       "      <th>4</th>\n",
       "      <td>hot</td>\n",
       "      <td>initial_temp</td>\n",
       "      <td>59.8</td>\n",
       "    </tr>\n",
       "    <tr>\n",
       "      <th>5</th>\n",
       "      <td>Cold</td>\n",
       "      <td>initial_temp</td>\n",
       "      <td>48.0</td>\n",
       "    </tr>\n",
       "    <tr>\n",
       "      <th>6</th>\n",
       "      <td>hot</td>\n",
       "      <td>final_temp</td>\n",
       "      <td>30.0</td>\n",
       "    </tr>\n",
       "    <tr>\n",
       "      <th>7</th>\n",
       "      <td>hot</td>\n",
       "      <td>final_temp</td>\n",
       "      <td>25.0</td>\n",
       "    </tr>\n",
       "    <tr>\n",
       "      <th>8</th>\n",
       "      <td>hot</td>\n",
       "      <td>final_temp</td>\n",
       "      <td>25.0</td>\n",
       "    </tr>\n",
       "    <tr>\n",
       "      <th>9</th>\n",
       "      <td>hot</td>\n",
       "      <td>final_temp</td>\n",
       "      <td>25.0</td>\n",
       "    </tr>\n",
       "  </tbody>\n",
       "</table>\n",
       "</div>"
      ],
      "text/plain": [
       "  stream_type      variable   temp\n",
       "0         hot  initial_temp  140.2\n",
       "1        Cold    final_temp   88.1\n",
       "2         hot  initial_temp   80.7\n",
       "3         hot  initial_temp   80.0\n",
       "4         hot  initial_temp   59.8\n",
       "5        Cold  initial_temp   48.0\n",
       "6         hot    final_temp   30.0\n",
       "7         hot    final_temp   25.0\n",
       "8         hot    final_temp   25.0\n",
       "9         hot    final_temp   25.0"
      ]
     },
     "execution_count": 27,
     "metadata": {},
     "output_type": "execute_result"
    }
   ],
   "source": [
    "a[['stream_type', 'initial_temp', 'final_temp']].melt('stream_type', \n",
    "                                                      value_name = 'temp').sort_values('temp', ascending = False).reset_index(drop = True)"
   ]
  },
  {
   "cell_type": "code",
   "execution_count": 15,
   "id": "b5da6a8e",
   "metadata": {},
   "outputs": [
    {
     "data": {
      "text/html": [
       "<div>\n",
       "<style scoped>\n",
       "    .dataframe tbody tr th:only-of-type {\n",
       "        vertical-align: middle;\n",
       "    }\n",
       "\n",
       "    .dataframe tbody tr th {\n",
       "        vertical-align: top;\n",
       "    }\n",
       "\n",
       "    .dataframe thead th {\n",
       "        text-align: right;\n",
       "    }\n",
       "</style>\n",
       "<table border=\"1\" class=\"dataframe\">\n",
       "  <thead>\n",
       "    <tr style=\"text-align: right;\">\n",
       "      <th></th>\n",
       "      <th>stream_type</th>\n",
       "      <th>mass_flow_rate</th>\n",
       "      <th>flowing_heat_capacity</th>\n",
       "      <th>initial_temp</th>\n",
       "      <th>final_temp</th>\n",
       "      <th>heat_load</th>\n",
       "    </tr>\n",
       "  </thead>\n",
       "  <tbody>\n",
       "    <tr>\n",
       "      <th>0</th>\n",
       "      <td>Cold</td>\n",
       "      <td>105.60</td>\n",
       "      <td>271.47</td>\n",
       "      <td>48.0</td>\n",
       "      <td>88.1</td>\n",
       "      <td>10885.947</td>\n",
       "    </tr>\n",
       "    <tr>\n",
       "      <th>1</th>\n",
       "      <td>hot</td>\n",
       "      <td>77.75</td>\n",
       "      <td>149.52</td>\n",
       "      <td>80.7</td>\n",
       "      <td>30.0</td>\n",
       "      <td>7580.664</td>\n",
       "    </tr>\n",
       "    <tr>\n",
       "      <th>2</th>\n",
       "      <td>hot</td>\n",
       "      <td>15.16</td>\n",
       "      <td>47.41</td>\n",
       "      <td>140.2</td>\n",
       "      <td>25.0</td>\n",
       "      <td>5461.632</td>\n",
       "    </tr>\n",
       "    <tr>\n",
       "      <th>3</th>\n",
       "      <td>hot</td>\n",
       "      <td>14.63</td>\n",
       "      <td>41.72</td>\n",
       "      <td>59.8</td>\n",
       "      <td>25.0</td>\n",
       "      <td>1451.856</td>\n",
       "    </tr>\n",
       "    <tr>\n",
       "      <th>4</th>\n",
       "      <td>hot</td>\n",
       "      <td>5.25</td>\n",
       "      <td>34.79</td>\n",
       "      <td>80.0</td>\n",
       "      <td>25.0</td>\n",
       "      <td>1913.450</td>\n",
       "    </tr>\n",
       "  </tbody>\n",
       "</table>\n",
       "</div>"
      ],
      "text/plain": [
       "  stream_type  mass_flow_rate  flowing_heat_capacity  initial_temp  \\\n",
       "0        Cold          105.60                 271.47          48.0   \n",
       "1         hot           77.75                 149.52          80.7   \n",
       "2         hot           15.16                  47.41         140.2   \n",
       "3         hot           14.63                  41.72          59.8   \n",
       "4         hot            5.25                  34.79          80.0   \n",
       "\n",
       "   final_temp  heat_load  \n",
       "0        88.1  10885.947  \n",
       "1        30.0   7580.664  \n",
       "2        25.0   5461.632  \n",
       "3        25.0   1451.856  \n",
       "4        25.0   1913.450  "
      ]
     },
     "execution_count": 15,
     "metadata": {},
     "output_type": "execute_result"
    }
   ],
   "source": [
    "def problem_table_algorithm(df):\n",
    "    "
   ]
  },
  {
   "cell_type": "code",
   "execution_count": 7,
   "id": "e2c61778",
   "metadata": {},
   "outputs": [],
   "source": [
    "def min_temp_diff_selection(t_min = 12, tradeoff = 'energy'):\n",
    "    \"\"\"\n",
    "    This determines the max possible amount of heat recovery.\n",
    "    Optimium delta_T_min is influenced by the tradeoff between capital and energy costs.\n",
    "    \n",
    "    default t_min set at 12 because increasing t_min decreases annualised capital cost. \n",
    "    However, this increases energy costs (so\n",
    "    if your process has a lot of energy cost requirements, you'd want to decrease t_min)\n",
    "    \"\"\"\n",
    "    if tradeoff == 'energy':\n",
    "        6 <= t_min < 12\n",
    "    \n",
    "    \n",
    "    elif tradeoff == 'capital':\n",
    "        12 <= t_min <= 20"
   ]
  },
  {
   "cell_type": "code",
   "execution_count": null,
   "id": "9b46ebae",
   "metadata": {},
   "outputs": [],
   "source": []
  },
  {
   "cell_type": "code",
   "execution_count": null,
   "id": "1e658965",
   "metadata": {},
   "outputs": [],
   "source": []
  },
  {
   "cell_type": "code",
   "execution_count": null,
   "id": "d8a99621",
   "metadata": {},
   "outputs": [],
   "source": []
  },
  {
   "cell_type": "code",
   "execution_count": null,
   "id": "3cb9f7c5",
   "metadata": {},
   "outputs": [],
   "source": []
  },
  {
   "cell_type": "code",
   "execution_count": null,
   "id": "05c2bb0a",
   "metadata": {},
   "outputs": [],
   "source": []
  },
  {
   "cell_type": "code",
   "execution_count": null,
   "id": "68ff05c1",
   "metadata": {},
   "outputs": [],
   "source": []
  },
  {
   "cell_type": "code",
   "execution_count": null,
   "id": "3bc4b33b",
   "metadata": {},
   "outputs": [],
   "source": []
  },
  {
   "cell_type": "code",
   "execution_count": null,
   "id": "09d0e2c4",
   "metadata": {},
   "outputs": [],
   "source": []
  },
  {
   "cell_type": "code",
   "execution_count": null,
   "id": "bf295cb9",
   "metadata": {},
   "outputs": [],
   "source": []
  },
  {
   "cell_type": "code",
   "execution_count": null,
   "id": "500ff591",
   "metadata": {},
   "outputs": [],
   "source": []
  },
  {
   "cell_type": "code",
   "execution_count": null,
   "id": "d77d0548",
   "metadata": {},
   "outputs": [],
   "source": []
  },
  {
   "cell_type": "code",
   "execution_count": null,
   "id": "3656564d",
   "metadata": {},
   "outputs": [],
   "source": []
  },
  {
   "cell_type": "code",
   "execution_count": null,
   "id": "76fe5749",
   "metadata": {},
   "outputs": [],
   "source": []
  },
  {
   "cell_type": "code",
   "execution_count": null,
   "id": "7f75bda5",
   "metadata": {},
   "outputs": [],
   "source": []
  },
  {
   "cell_type": "markdown",
   "id": "0522a769",
   "metadata": {},
   "source": [
    "# ----------------------- USELESS FUNCTIONS -----------------------"
   ]
  },
  {
   "cell_type": "code",
   "execution_count": null,
   "id": "b925f1d5",
   "metadata": {},
   "outputs": [],
   "source": [
    "#def datatype_converter(df):\n",
    "#    col_list = []\n",
    "#    for column in df.columns:\n",
    "#        col_list.append(column)\n",
    "#        for i in range(len(col_list)):\n",
    "#            if is_string_dtype(df[col_list.pop()]):\n",
    "#                df.apply(pd.to_numeric, errors = 'coerce') # coerce invalid values to nan. \n",
    "#            else:\n",
    "#                pass\n",
    "#    return df"
   ]
  },
  {
   "cell_type": "code",
   "execution_count": null,
   "id": "9f20a589",
   "metadata": {},
   "outputs": [],
   "source": [
    "def datatype_converter1(df):\n",
    "    target_cols = [col for col in df.columns if is_numeric_dtype(df[col])]\n",
    "    for col in target_cols:\n",
    "        df.loc[:, col] = pd.to_numeric(df[col])\n",
    "    return df"
   ]
  },
  {
   "cell_type": "code",
   "execution_count": null,
   "id": "4a1990d5",
   "metadata": {},
   "outputs": [],
   "source": [
    "a = datatype_converter1(a)"
   ]
  },
  {
   "cell_type": "code",
   "execution_count": null,
   "id": "89a40d2c",
   "metadata": {},
   "outputs": [],
   "source": [
    "a"
   ]
  },
  {
   "cell_type": "code",
   "execution_count": null,
   "id": "bea7d0aa",
   "metadata": {},
   "outputs": [],
   "source": [
    "def datatype_converter2(df):\n",
    "    ind = df.columns != 'stream_type'\n",
    "    df.loc[:, ind] = df.loc[:, ind].astype(float)\n",
    "    return df"
   ]
  },
  {
   "cell_type": "code",
   "execution_count": null,
   "id": "8fbdb4c3",
   "metadata": {},
   "outputs": [],
   "source": [
    "ind = a.columns != 'stream_type'\n",
    "ind"
   ]
  },
  {
   "cell_type": "code",
   "execution_count": null,
   "id": "c7802f4f",
   "metadata": {},
   "outputs": [],
   "source": [
    "a = datatype_converter2(a)"
   ]
  },
  {
   "cell_type": "code",
   "execution_count": null,
   "id": "52fa5f28",
   "metadata": {},
   "outputs": [],
   "source": [
    "a.info()"
   ]
  },
  {
   "cell_type": "code",
   "execution_count": null,
   "id": "dc423480",
   "metadata": {},
   "outputs": [],
   "source": [
    "a = a.transform(pd.to_numeric, errors = 'ignore')"
   ]
  },
  {
   "cell_type": "code",
   "execution_count": null,
   "id": "44cb174e",
   "metadata": {},
   "outputs": [],
   "source": [
    "a.info()"
   ]
  },
  {
   "cell_type": "code",
   "execution_count": null,
   "id": "aeeb9b1a",
   "metadata": {},
   "outputs": [],
   "source": []
  }
 ],
 "metadata": {
  "kernelspec": {
   "display_name": "Python [conda env:575new]",
   "language": "python",
   "name": "conda-env-575new-py"
  },
  "language_info": {
   "codemirror_mode": {
    "name": "ipython",
    "version": 3
   },
   "file_extension": ".py",
   "mimetype": "text/x-python",
   "name": "python",
   "nbconvert_exporter": "python",
   "pygments_lexer": "ipython3",
   "version": "3.7.10"
  }
 },
 "nbformat": 4,
 "nbformat_minor": 5
}
