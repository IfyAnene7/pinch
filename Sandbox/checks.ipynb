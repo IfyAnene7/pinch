{
 "cells": [
  {
   "cell_type": "code",
   "execution_count": 1,
   "id": "972756cd",
   "metadata": {},
   "outputs": [],
   "source": [
    "import pandas as pd\n",
    "import numpy as np \n",
    "#import plotly.graph_objects as go\n",
    "#from plotly.subplots import make_subplots\n",
    "from pandas.api.types import is_numeric_dtype\n",
    "from pandas.api.types import is_string_dtype\n",
    "import itertools as it"
   ]
  },
  {
   "cell_type": "markdown",
   "id": "8d59b554",
   "metadata": {},
   "source": [
    "# Notes\n",
    "\n",
    "- Add Stream_id"
   ]
  },
  {
   "cell_type": "code",
   "execution_count": 2,
   "id": "afda20f2",
   "metadata": {},
   "outputs": [
    {
     "data": {
      "text/html": [
       "<div>\n",
       "<style scoped>\n",
       "    .dataframe tbody tr th:only-of-type {\n",
       "        vertical-align: middle;\n",
       "    }\n",
       "\n",
       "    .dataframe tbody tr th {\n",
       "        vertical-align: top;\n",
       "    }\n",
       "\n",
       "    .dataframe thead th {\n",
       "        text-align: right;\n",
       "    }\n",
       "</style>\n",
       "<table border=\"1\" class=\"dataframe\">\n",
       "  <thead>\n",
       "    <tr style=\"text-align: right;\">\n",
       "      <th></th>\n",
       "      <th>stream_type</th>\n",
       "      <th>mass_flow_rate</th>\n",
       "      <th>flowing_heat_capacity</th>\n",
       "      <th>initial_temp</th>\n",
       "      <th>final_temp</th>\n",
       "    </tr>\n",
       "  </thead>\n",
       "  <tbody>\n",
       "    <tr>\n",
       "      <th>0</th>\n",
       "      <td>Cold</td>\n",
       "      <td>105.6</td>\n",
       "      <td>271.47</td>\n",
       "      <td>48.0</td>\n",
       "      <td>88.1</td>\n",
       "    </tr>\n",
       "    <tr>\n",
       "      <th>1</th>\n",
       "      <td>hot</td>\n",
       "      <td>77.75</td>\n",
       "      <td>149.52</td>\n",
       "      <td>80.7</td>\n",
       "      <td>30.0</td>\n",
       "    </tr>\n",
       "    <tr>\n",
       "      <th>2</th>\n",
       "      <td>hot</td>\n",
       "      <td>15.16</td>\n",
       "      <td>47.41</td>\n",
       "      <td>140.2</td>\n",
       "      <td>25.0</td>\n",
       "    </tr>\n",
       "    <tr>\n",
       "      <th>3</th>\n",
       "      <td>hot</td>\n",
       "      <td>14.63</td>\n",
       "      <td>41.72</td>\n",
       "      <td>59.8</td>\n",
       "      <td>25.0</td>\n",
       "    </tr>\n",
       "    <tr>\n",
       "      <th>4</th>\n",
       "      <td>hot</td>\n",
       "      <td>5.25</td>\n",
       "      <td>34.79</td>\n",
       "      <td>80.0</td>\n",
       "      <td>25.0</td>\n",
       "    </tr>\n",
       "  </tbody>\n",
       "</table>\n",
       "</div>"
      ],
      "text/plain": [
       "  stream_type mass_flow_rate flowing_heat_capacity initial_temp final_temp\n",
       "0        Cold          105.6                271.47         48.0       88.1\n",
       "1         hot          77.75                149.52         80.7       30.0\n",
       "2         hot          15.16                 47.41        140.2       25.0\n",
       "3         hot          14.63                 41.72         59.8       25.0\n",
       "4         hot           5.25                 34.79         80.0       25.0"
      ]
     },
     "execution_count": 2,
     "metadata": {},
     "output_type": "execute_result"
    }
   ],
   "source": [
    "a = pd.DataFrame(np.array([['Cold', 105.6, 271.47, 48.0, 88.1], \n",
    "                                      ['hot', 77.75, 149.52, 80.7, 30.0],\n",
    "                                      ['hot', 15.16, 47.41, 140.2, 25.0],\n",
    "                                      ['hot', 14.63, 41.72, 59.8, 25.0],\n",
    "                                      ['hot', 5.25, 34.79, 80.0, 25.0]]), \n",
    "                            columns = ['stream_type', 'mass_flow_rate', \n",
    "                                       'flowing_heat_capacity', 'initial_temp', 'final_temp'])\n",
    "\n",
    "a"
   ]
  },
  {
   "cell_type": "code",
   "execution_count": 3,
   "id": "f4e1f4f0",
   "metadata": {},
   "outputs": [
    {
     "name": "stdout",
     "output_type": "stream",
     "text": [
      "<class 'pandas.core.frame.DataFrame'>\n",
      "RangeIndex: 5 entries, 0 to 4\n",
      "Data columns (total 5 columns):\n",
      " #   Column                 Non-Null Count  Dtype \n",
      "---  ------                 --------------  ----- \n",
      " 0   stream_type            5 non-null      object\n",
      " 1   mass_flow_rate         5 non-null      object\n",
      " 2   flowing_heat_capacity  5 non-null      object\n",
      " 3   initial_temp           5 non-null      object\n",
      " 4   final_temp             5 non-null      object\n",
      "dtypes: object(5)\n",
      "memory usage: 328.0+ bytes\n"
     ]
    }
   ],
   "source": [
    "a.info()"
   ]
  },
  {
   "cell_type": "code",
   "execution_count": 4,
   "id": "c306b1fa",
   "metadata": {},
   "outputs": [],
   "source": [
    "a[['mass_flow_rate','flowing_heat_capacity', 'initial_temp', 'final_temp']] = a[['mass_flow_rate','flowing_heat_capacity', 'initial_temp', 'final_temp']].apply(pd.to_numeric, errors = 'coerce')"
   ]
  },
  {
   "cell_type": "code",
   "execution_count": 5,
   "id": "3e775b7c",
   "metadata": {},
   "outputs": [
    {
     "data": {
      "text/html": [
       "<div>\n",
       "<style scoped>\n",
       "    .dataframe tbody tr th:only-of-type {\n",
       "        vertical-align: middle;\n",
       "    }\n",
       "\n",
       "    .dataframe tbody tr th {\n",
       "        vertical-align: top;\n",
       "    }\n",
       "\n",
       "    .dataframe thead th {\n",
       "        text-align: right;\n",
       "    }\n",
       "</style>\n",
       "<table border=\"1\" class=\"dataframe\">\n",
       "  <thead>\n",
       "    <tr style=\"text-align: right;\">\n",
       "      <th></th>\n",
       "      <th>stream_type</th>\n",
       "      <th>mass_flow_rate</th>\n",
       "      <th>flowing_heat_capacity</th>\n",
       "      <th>initial_temp</th>\n",
       "      <th>final_temp</th>\n",
       "    </tr>\n",
       "  </thead>\n",
       "  <tbody>\n",
       "    <tr>\n",
       "      <th>0</th>\n",
       "      <td>Cold</td>\n",
       "      <td>105.60</td>\n",
       "      <td>271.47</td>\n",
       "      <td>48.0</td>\n",
       "      <td>88.1</td>\n",
       "    </tr>\n",
       "    <tr>\n",
       "      <th>1</th>\n",
       "      <td>hot</td>\n",
       "      <td>77.75</td>\n",
       "      <td>149.52</td>\n",
       "      <td>80.7</td>\n",
       "      <td>30.0</td>\n",
       "    </tr>\n",
       "    <tr>\n",
       "      <th>2</th>\n",
       "      <td>hot</td>\n",
       "      <td>15.16</td>\n",
       "      <td>47.41</td>\n",
       "      <td>140.2</td>\n",
       "      <td>25.0</td>\n",
       "    </tr>\n",
       "    <tr>\n",
       "      <th>3</th>\n",
       "      <td>hot</td>\n",
       "      <td>14.63</td>\n",
       "      <td>41.72</td>\n",
       "      <td>59.8</td>\n",
       "      <td>25.0</td>\n",
       "    </tr>\n",
       "    <tr>\n",
       "      <th>4</th>\n",
       "      <td>hot</td>\n",
       "      <td>5.25</td>\n",
       "      <td>34.79</td>\n",
       "      <td>80.0</td>\n",
       "      <td>25.0</td>\n",
       "    </tr>\n",
       "  </tbody>\n",
       "</table>\n",
       "</div>"
      ],
      "text/plain": [
       "  stream_type  mass_flow_rate  flowing_heat_capacity  initial_temp  final_temp\n",
       "0        Cold          105.60                 271.47          48.0        88.1\n",
       "1         hot           77.75                 149.52          80.7        30.0\n",
       "2         hot           15.16                  47.41         140.2        25.0\n",
       "3         hot           14.63                  41.72          59.8        25.0\n",
       "4         hot            5.25                  34.79          80.0        25.0"
      ]
     },
     "execution_count": 5,
     "metadata": {},
     "output_type": "execute_result"
    }
   ],
   "source": [
    "a"
   ]
  },
  {
   "cell_type": "code",
   "execution_count": 6,
   "id": "127e3ba1",
   "metadata": {},
   "outputs": [
    {
     "name": "stdout",
     "output_type": "stream",
     "text": [
      "<class 'pandas.core.frame.DataFrame'>\n",
      "RangeIndex: 5 entries, 0 to 4\n",
      "Data columns (total 5 columns):\n",
      " #   Column                 Non-Null Count  Dtype  \n",
      "---  ------                 --------------  -----  \n",
      " 0   stream_type            5 non-null      object \n",
      " 1   mass_flow_rate         5 non-null      float64\n",
      " 2   flowing_heat_capacity  5 non-null      float64\n",
      " 3   initial_temp           5 non-null      float64\n",
      " 4   final_temp             5 non-null      float64\n",
      "dtypes: float64(4), object(1)\n",
      "memory usage: 328.0+ bytes\n"
     ]
    }
   ],
   "source": [
    "a.info()"
   ]
  },
  {
   "cell_type": "code",
   "execution_count": 7,
   "id": "95e1370b",
   "metadata": {},
   "outputs": [
    {
     "data": {
      "text/html": [
       "<div>\n",
       "<style scoped>\n",
       "    .dataframe tbody tr th:only-of-type {\n",
       "        vertical-align: middle;\n",
       "    }\n",
       "\n",
       "    .dataframe tbody tr th {\n",
       "        vertical-align: top;\n",
       "    }\n",
       "\n",
       "    .dataframe thead th {\n",
       "        text-align: right;\n",
       "    }\n",
       "</style>\n",
       "<table border=\"1\" class=\"dataframe\">\n",
       "  <thead>\n",
       "    <tr style=\"text-align: right;\">\n",
       "      <th></th>\n",
       "      <th>stream_type</th>\n",
       "      <th>mass_flow_rate</th>\n",
       "      <th>flowing_heat_capacity</th>\n",
       "      <th>initial_temp</th>\n",
       "      <th>final_temp</th>\n",
       "    </tr>\n",
       "  </thead>\n",
       "  <tbody>\n",
       "    <tr>\n",
       "      <th>0</th>\n",
       "      <td>Cold</td>\n",
       "      <td>105.60</td>\n",
       "      <td>271.47</td>\n",
       "      <td>48.0</td>\n",
       "      <td>88.1</td>\n",
       "    </tr>\n",
       "    <tr>\n",
       "      <th>1</th>\n",
       "      <td>hot</td>\n",
       "      <td>77.75</td>\n",
       "      <td>149.52</td>\n",
       "      <td>80.7</td>\n",
       "      <td>30.0</td>\n",
       "    </tr>\n",
       "    <tr>\n",
       "      <th>2</th>\n",
       "      <td>hot</td>\n",
       "      <td>15.16</td>\n",
       "      <td>47.41</td>\n",
       "      <td>140.2</td>\n",
       "      <td>25.0</td>\n",
       "    </tr>\n",
       "    <tr>\n",
       "      <th>3</th>\n",
       "      <td>hot</td>\n",
       "      <td>14.63</td>\n",
       "      <td>41.72</td>\n",
       "      <td>59.8</td>\n",
       "      <td>25.0</td>\n",
       "    </tr>\n",
       "    <tr>\n",
       "      <th>4</th>\n",
       "      <td>hot</td>\n",
       "      <td>5.25</td>\n",
       "      <td>34.79</td>\n",
       "      <td>80.0</td>\n",
       "      <td>25.0</td>\n",
       "    </tr>\n",
       "  </tbody>\n",
       "</table>\n",
       "</div>"
      ],
      "text/plain": [
       "  stream_type  mass_flow_rate  flowing_heat_capacity  initial_temp  final_temp\n",
       "0        Cold          105.60                 271.47          48.0        88.1\n",
       "1         hot           77.75                 149.52          80.7        30.0\n",
       "2         hot           15.16                  47.41         140.2        25.0\n",
       "3         hot           14.63                  41.72          59.8        25.0\n",
       "4         hot            5.25                  34.79          80.0        25.0"
      ]
     },
     "execution_count": 7,
     "metadata": {},
     "output_type": "execute_result"
    }
   ],
   "source": [
    "a"
   ]
  },
  {
   "cell_type": "code",
   "execution_count": 44,
   "id": "9b1559c4",
   "metadata": {},
   "outputs": [
    {
     "data": {
      "text/html": [
       "<div>\n",
       "<style scoped>\n",
       "    .dataframe tbody tr th:only-of-type {\n",
       "        vertical-align: middle;\n",
       "    }\n",
       "\n",
       "    .dataframe tbody tr th {\n",
       "        vertical-align: top;\n",
       "    }\n",
       "\n",
       "    .dataframe thead th {\n",
       "        text-align: right;\n",
       "    }\n",
       "</style>\n",
       "<table border=\"1\" class=\"dataframe\">\n",
       "  <thead>\n",
       "    <tr style=\"text-align: right;\">\n",
       "      <th></th>\n",
       "      <th>stream_type</th>\n",
       "      <th>mass_flow_rate</th>\n",
       "      <th>flowing_heat_capacity</th>\n",
       "      <th>initial_temp</th>\n",
       "      <th>final_temp</th>\n",
       "    </tr>\n",
       "  </thead>\n",
       "  <tbody>\n",
       "    <tr>\n",
       "      <th>0</th>\n",
       "      <td>cold</td>\n",
       "      <td>105.60</td>\n",
       "      <td>271.47</td>\n",
       "      <td>48.0</td>\n",
       "      <td>88.1</td>\n",
       "    </tr>\n",
       "    <tr>\n",
       "      <th>1</th>\n",
       "      <td>hot</td>\n",
       "      <td>77.75</td>\n",
       "      <td>149.52</td>\n",
       "      <td>80.7</td>\n",
       "      <td>30.0</td>\n",
       "    </tr>\n",
       "    <tr>\n",
       "      <th>2</th>\n",
       "      <td>hot</td>\n",
       "      <td>15.16</td>\n",
       "      <td>47.41</td>\n",
       "      <td>140.2</td>\n",
       "      <td>25.0</td>\n",
       "    </tr>\n",
       "    <tr>\n",
       "      <th>3</th>\n",
       "      <td>hot</td>\n",
       "      <td>14.63</td>\n",
       "      <td>41.72</td>\n",
       "      <td>59.8</td>\n",
       "      <td>25.0</td>\n",
       "    </tr>\n",
       "    <tr>\n",
       "      <th>4</th>\n",
       "      <td>hot</td>\n",
       "      <td>5.25</td>\n",
       "      <td>34.79</td>\n",
       "      <td>80.0</td>\n",
       "      <td>25.0</td>\n",
       "    </tr>\n",
       "  </tbody>\n",
       "</table>\n",
       "</div>"
      ],
      "text/plain": [
       "  stream_type  mass_flow_rate  flowing_heat_capacity  initial_temp  final_temp\n",
       "0        cold          105.60                 271.47          48.0        88.1\n",
       "1         hot           77.75                 149.52          80.7        30.0\n",
       "2         hot           15.16                  47.41         140.2        25.0\n",
       "3         hot           14.63                  41.72          59.8        25.0\n",
       "4         hot            5.25                  34.79          80.0        25.0"
      ]
     },
     "execution_count": 44,
     "metadata": {},
     "output_type": "execute_result"
    }
   ],
   "source": [
    "a['stream_type'] = a['stream_type'].str.lower()\n",
    "\n",
    "a"
   ]
  },
  {
   "cell_type": "code",
   "execution_count": 81,
   "id": "ee19895b",
   "metadata": {},
   "outputs": [
    {
     "data": {
      "text/html": [
       "<div>\n",
       "<style scoped>\n",
       "    .dataframe tbody tr th:only-of-type {\n",
       "        vertical-align: middle;\n",
       "    }\n",
       "\n",
       "    .dataframe tbody tr th {\n",
       "        vertical-align: top;\n",
       "    }\n",
       "\n",
       "    .dataframe thead th {\n",
       "        text-align: right;\n",
       "    }\n",
       "</style>\n",
       "<table border=\"1\" class=\"dataframe\">\n",
       "  <thead>\n",
       "    <tr style=\"text-align: right;\">\n",
       "      <th></th>\n",
       "      <th>stream_type</th>\n",
       "      <th>mass_flow_rate</th>\n",
       "      <th>flowing_heat_capacity</th>\n",
       "      <th>initial_temp</th>\n",
       "      <th>final_temp</th>\n",
       "    </tr>\n",
       "  </thead>\n",
       "  <tbody>\n",
       "    <tr>\n",
       "      <th>0</th>\n",
       "      <td>cold</td>\n",
       "      <td>105.6</td>\n",
       "      <td>271.47</td>\n",
       "      <td>48.0</td>\n",
       "      <td>88.1</td>\n",
       "    </tr>\n",
       "  </tbody>\n",
       "</table>\n",
       "</div>"
      ],
      "text/plain": [
       "  stream_type  mass_flow_rate  flowing_heat_capacity  initial_temp  final_temp\n",
       "0        cold           105.6                 271.47          48.0        88.1"
      ]
     },
     "execution_count": 81,
     "metadata": {},
     "output_type": "execute_result"
    }
   ],
   "source": [
    "a.loc[a['stream_type'] == 'cold']"
   ]
  },
  {
   "cell_type": "code",
   "execution_count": 133,
   "id": "c4bfd39e",
   "metadata": {},
   "outputs": [
    {
     "data": {
      "text/html": [
       "<div>\n",
       "<style scoped>\n",
       "    .dataframe tbody tr th:only-of-type {\n",
       "        vertical-align: middle;\n",
       "    }\n",
       "\n",
       "    .dataframe tbody tr th {\n",
       "        vertical-align: top;\n",
       "    }\n",
       "\n",
       "    .dataframe thead th {\n",
       "        text-align: right;\n",
       "    }\n",
       "</style>\n",
       "<table border=\"1\" class=\"dataframe\">\n",
       "  <thead>\n",
       "    <tr style=\"text-align: right;\">\n",
       "      <th></th>\n",
       "      <th>stream_type</th>\n",
       "      <th>new_col</th>\n",
       "    </tr>\n",
       "  </thead>\n",
       "  <tbody>\n",
       "    <tr>\n",
       "      <th>0</th>\n",
       "      <td>cold</td>\n",
       "      <td>48.0</td>\n",
       "    </tr>\n",
       "    <tr>\n",
       "      <th>1</th>\n",
       "      <td>cold</td>\n",
       "      <td>88.1</td>\n",
       "    </tr>\n",
       "    <tr>\n",
       "      <th>2</th>\n",
       "      <td>hot</td>\n",
       "      <td>80.7</td>\n",
       "    </tr>\n",
       "    <tr>\n",
       "      <th>3</th>\n",
       "      <td>hot</td>\n",
       "      <td>30.0</td>\n",
       "    </tr>\n",
       "    <tr>\n",
       "      <th>4</th>\n",
       "      <td>hot</td>\n",
       "      <td>140.2</td>\n",
       "    </tr>\n",
       "    <tr>\n",
       "      <th>5</th>\n",
       "      <td>hot</td>\n",
       "      <td>25.0</td>\n",
       "    </tr>\n",
       "    <tr>\n",
       "      <th>6</th>\n",
       "      <td>hot</td>\n",
       "      <td>59.8</td>\n",
       "    </tr>\n",
       "    <tr>\n",
       "      <th>7</th>\n",
       "      <td>hot</td>\n",
       "      <td>25.0</td>\n",
       "    </tr>\n",
       "    <tr>\n",
       "      <th>8</th>\n",
       "      <td>hot</td>\n",
       "      <td>80.0</td>\n",
       "    </tr>\n",
       "    <tr>\n",
       "      <th>9</th>\n",
       "      <td>hot</td>\n",
       "      <td>25.0</td>\n",
       "    </tr>\n",
       "  </tbody>\n",
       "</table>\n",
       "</div>"
      ],
      "text/plain": [
       "  stream_type  new_col\n",
       "0        cold     48.0\n",
       "1        cold     88.1\n",
       "2         hot     80.7\n",
       "3         hot     30.0\n",
       "4         hot    140.2\n",
       "5         hot     25.0\n",
       "6         hot     59.8\n",
       "7         hot     25.0\n",
       "8         hot     80.0\n",
       "9         hot     25.0"
      ]
     },
     "execution_count": 133,
     "metadata": {},
     "output_type": "execute_result"
    }
   ],
   "source": [
    "a[['stream_type',\n",
    "   'initial_temp', 'final_temp']].set_index('stream_type').stack().droplevel(1).to_frame('new_col').reset_index()"
   ]
  },
  {
   "cell_type": "code",
   "execution_count": null,
   "id": "b7b199c1",
   "metadata": {},
   "outputs": [],
   "source": [
    "b = pd.DataFrame(np.arange(10))\n",
    "\n",
    "if a['stream_type'].str.lower() is not 'cold':\n",
    "    b['new_col'] = a['initial_temp'] + 2\n",
    "    b['new_col'] = a['final_temp'] + 2\n",
    "else:\n",
    "    b['new_col'] = a['initial_temp'] -  2"
   ]
  },
  {
   "cell_type": "code",
   "execution_count": null,
   "id": "e2cefcc3",
   "metadata": {},
   "outputs": [],
   "source": [
    "b"
   ]
  },
  {
   "cell_type": "code",
   "execution_count": null,
   "id": "a9ca98ad",
   "metadata": {},
   "outputs": [],
   "source": [
    "a['stream_type'].str.lower()"
   ]
  },
  {
   "cell_type": "code",
   "execution_count": null,
   "id": "b076a90b",
   "metadata": {},
   "outputs": [],
   "source": [
    "## Need to test that the items in this numpy array is strings \n",
    "\n",
    "type(a['stream_type'].values.item(1))"
   ]
  },
  {
   "cell_type": "code",
   "execution_count": null,
   "id": "3bd33d64",
   "metadata": {},
   "outputs": [],
   "source": []
  },
  {
   "cell_type": "code",
   "execution_count": null,
   "id": "d2256395",
   "metadata": {},
   "outputs": [],
   "source": [
    "def problem_table_algorithm(df, type_col, delta_t_min):\n",
    "    \n",
    "    supply_and_target = 2\n",
    "    \n",
    "    rows = len(a['stream_type'].values) * supply_and_target\n",
    "    \n",
    "    problem_table = pd.DataFrame(index = np.arange(rows))\n",
    "    \n",
    "    if df[type_col].str.lower() is 'hot':\n",
    "        problem_table['supply_temp']  = df['initial_temp'] - delta_t_min\n",
    "        problem_table['supply_temp']  = df['final_temp'] - delta_t_min\n",
    "    elif df[type_col].str.lower() is 'cold':\n",
    "        problem_table['supply_temp']  = df['initial_temp'] + delta_t_min\n",
    "        problem_table['supply_temp']  = df['final_temp'] + delta_t_min\n",
    "    else:\n",
    "        print(\"The column that indicates the stream type\\nneeds to have only hot and cold.\")\n",
    "    \n",
    "    return problem_table"
   ]
  },
  {
   "cell_type": "code",
   "execution_count": null,
   "id": "d777de79",
   "metadata": {},
   "outputs": [],
   "source": [
    "problem_table_algorithm(a, 'stream_type', 6)"
   ]
  },
  {
   "cell_type": "code",
   "execution_count": null,
   "id": "3b16fe7e",
   "metadata": {},
   "outputs": [],
   "source": []
  },
  {
   "cell_type": "code",
   "execution_count": null,
   "id": "631deaff",
   "metadata": {},
   "outputs": [],
   "source": []
  },
  {
   "cell_type": "code",
   "execution_count": null,
   "id": "13991a5f",
   "metadata": {},
   "outputs": [],
   "source": []
  }
 ],
 "metadata": {
  "kernelspec": {
   "display_name": "Python [conda env:571]",
   "language": "python",
   "name": "conda-env-571-py"
  },
  "language_info": {
   "codemirror_mode": {
    "name": "ipython",
    "version": 3
   },
   "file_extension": ".py",
   "mimetype": "text/x-python",
   "name": "python",
   "nbconvert_exporter": "python",
   "pygments_lexer": "ipython3",
   "version": "3.7.10"
  }
 },
 "nbformat": 4,
 "nbformat_minor": 5
}
